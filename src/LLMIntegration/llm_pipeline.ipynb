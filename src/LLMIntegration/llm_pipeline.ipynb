{
 "cells": [
  {
   "cell_type": "code",
   "execution_count": 19,
   "metadata": {},
   "outputs": [],
   "source": [
    "import yaml\n",
    "import requests\n",
    "from openai import OpenAI"
   ]
  },
  {
   "cell_type": "code",
   "execution_count": 24,
   "metadata": {},
   "outputs": [],
   "source": [
    "INPUT_CREATOR_PROMPT = \"\"\"\n",
    "You are an agent made to extract locations, priorities, and area sizes from user requests. \n",
    "Priority is a number from 1 to 5, where 5 is the highest priority.\n",
    "Area size is a number in square kilometers. This number depends of the size of the area requested. You are free to adapt this number to the area of the city, and adapt it with what the user asks for.\n",
    "Please respect this output format:\n",
    "requests:\n",
    "  - location: \"Tokyo\"\n",
    "    priority: 3\n",
    "    area_size_km2: 100\n",
    "  - location: \"Montréal\"\n",
    "    priority: 2\n",
    "    area_size_km2: 50\n",
    "  - location: \"Paris\"\n",
    "    priority: 1\n",
    "\"\"\"\n",
    "\n",
    "OUTPUT_CREATOR_PROMPT = \"\"\"\n",
    "Summarize satellite observation results. Describe orally the results of the observations. Mention your confidence in the results and excuses if the results is different from the user request.\n",
    "This difference may be caused by a lot of factors, like the weather, the satellite position, or the area size.\n",
    "\"\"\""
   ]
  },
  {
   "cell_type": "code",
   "execution_count": 21,
   "metadata": {},
   "outputs": [],
   "source": [
    "def get_gps_coordinates(location):\n",
    "    url = f\"https://nominatim.openstreetmap.org/search?q={location}&format=json\"\n",
    "    response = requests.get(url, headers={\"User-Agent\": \"satellite-scheduler\"})\n",
    "    data = response.json()\n",
    "    if data:\n",
    "        return float(data[0][\"lat\"]), float(data[0][\"lon\"])\n",
    "    return None\n",
    "\n",
    "def parse_user_request(llm, user_text):\n",
    "    response = llm.chat.completions.create(\n",
    "        messages=[{\"role\": \"system\", \"content\": INPUT_CREATOR_PROMPT},\n",
    "                  {\"role\": \"user\", \"content\": user_text}],\n",
    "        model=\"OpenAI.chatgpt-4o-latest\",\n",
    "        temperature=0.5\n",
    "    )\n",
    "    return yaml.safe_load(response.choices[0].message.content)"
   ]
  },
  {
   "cell_type": "code",
   "execution_count": 60,
   "metadata": {},
   "outputs": [],
   "source": [
    "\n",
    "def generate_solver_input(locations):\n",
    "    for loc in locations:\n",
    "        gps_coordinates = get_gps_coordinates(loc[\"location\"])\n",
    "        loc[\"gps_coordinates\"] = {\"latitude\": gps_coordinates[0], \"longitude\": gps_coordinates[1]} if gps_coordinates else None\n",
    "        print(f\"Location: {loc['location']}, GPS Coordinates: {loc['gps_coordinates']}\")\n",
    "    with open(\"solver_input.yaml\", \"w\") as f:\n",
    "        yaml.dump({\"locations\": locations}, f, encoding=\"utf-8\", allow_unicode=True)\n",
    "\n",
    "def simulate_solver():\n",
    "    with open(\"solver_input.yaml\", \"r\") as f:\n",
    "        data = yaml.safe_load(f)\n",
    "    output = {\"observations\": []}\n",
    "    for req in data[\"locations\"]:\n",
    "        output[\"observations\"].append({\n",
    "            \"location\": req[\"location\"],\n",
    "            \"success\": True,\n",
    "            \"photo_size_gb\": 1.2,\n",
    "            \"photo_duration_s\": 60\n",
    "        })\n",
    "    with open(\"solver_output.yaml\", \"w\") as f:\n",
    "        yaml.dump(output, f)\n",
    "\n",
    "def describe_solver_output(llm):\n",
    "    with open(\"solver_output.yaml\", \"r\") as f:\n",
    "        solver_data = f.read()\n",
    "    response = llm.chat.completions.create(\n",
    "        messages=[{\"role\": \"system\", \"content\": OUTPUT_CREATOR_PROMPT},\n",
    "                  {\"role\": \"user\", \"content\": solver_data}],\n",
    "        model=\"OpenAI.chatgpt-4o-latest\",\n",
    "        temperature=0.5\n",
    "    )\n",
    "    return response.choices[0].message.content"
   ]
  },
  {
   "cell_type": "code",
   "execution_count": 31,
   "metadata": {},
   "outputs": [],
   "source": [
    "\n",
    "llm = OpenAI(\n",
    "    base_url=\"https://epita.open-webui.myia.io/api\",\n",
    "    api_key=\"sk-d8c0043ee83d4188bdc2aaee9566dd51\")\n",
    "user_request = \"J'ai besoin d'une photo satellite de Paris de 100 km de large urgemment, et quand tu peux, une photo du centre ville de Montreal.\"\n",
    "parsed_data = parse_user_request(llm, user_request)"
   ]
  },
  {
   "cell_type": "code",
   "execution_count": 58,
   "metadata": {},
   "outputs": [
    {
     "name": "stdout",
     "output_type": "stream",
     "text": [
      "Location: Paris, GPS Coordinates: {'latitude': 48.8534951, 'longitude': 2.3483915}\n",
      "Location: Montréal, GPS Coordinates: {'latitude': 45.5031824, 'longitude': -73.5698065}\n"
     ]
    }
   ],
   "source": [
    "generate_solver_input(parsed_data[\"requests\"])"
   ]
  },
  {
   "cell_type": "code",
   "execution_count": 61,
   "metadata": {},
   "outputs": [
    {
     "name": "stdout",
     "output_type": "stream",
     "text": [
      "Here is a summary of the satellite observation results:\n",
      "\n",
      "We successfully captured satellite imagery over two locations: Paris and Montréal. Each observation lasted 60 seconds and resulted in image files of approximately 1.2 gigabytes in size. Both operations were completed successfully, indicating that the satellite maintained stable positioning and favorable conditions during the captures.\n",
      "\n",
      "I am confident in the accuracy and quality of these results based on the success status and consistent data across both locations. If there is any difference between these results and your expectations, it could be due to variables such as temporary weather conditions, satellite angle, or the specific area size covered during the observation window. Please let me know if you'd like to review or adjust any parameters for future observations.\n"
     ]
    }
   ],
   "source": [
    "simulate_solver()\n",
    "summary = describe_solver_output(llm)\n",
    "print(summary)"
   ]
  }
 ],
 "metadata": {
  "kernelspec": {
   "display_name": "ppc",
   "language": "python",
   "name": "python3"
  },
  "language_info": {
   "codemirror_mode": {
    "name": "ipython",
    "version": 3
   },
   "file_extension": ".py",
   "mimetype": "text/x-python",
   "name": "python",
   "nbconvert_exporter": "python",
   "pygments_lexer": "ipython3",
   "version": "3.12.2"
  }
 },
 "nbformat": 4,
 "nbformat_minor": 2
}
