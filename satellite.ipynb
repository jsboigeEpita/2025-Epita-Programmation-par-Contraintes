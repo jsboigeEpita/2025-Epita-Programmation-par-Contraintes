{
 "cells": [
  {
   "cell_type": "code",
   "execution_count": 2,
   "metadata": {},
   "outputs": [],
   "source": [
    "import numpy as np\n",
    "import ortools\n",
    "from ortools.sat.python import cp_model\n",
    "\n",
    "# Useful for defining quantities\n",
    "from astropy import units as u\n",
    "from astropy.time import Time\n",
    "\n",
    "# Earth focused modules, ISS example orbit and time span generator\n",
    "from poliastro.earth import EarthSatellite\n",
    "from poliastro.earth.plotting import GroundtrackPlotter\n",
    "from poliastro.examples import iss\n",
    "from poliastro.util import time_range\n",
    "\n",
    "import plotly.graph_objects as go\n",
    "\n",
    "from enum import Enum\n"
   ]
  },
  {
   "cell_type": "code",
   "execution_count": 3,
   "metadata": {},
   "outputs": [
    {
     "data": {
      "application/vnd.plotly.v1+json": {
       "config": {
        "plotlyServerURL": "https://plot.ly"
       },
       "data": [
        {
         "type": "scattergeo"
        },
        {
         "lat": [
          -81.7174746416242,
          -78.65616253861268,
          -16.74780292262433,
          -83.8184476551515,
          -18.9721545643593,
          83.16937881854594,
          -65.7059340623558,
          -16.464966761509473,
          -67.83448244763312,
          -88.91329853238675
         ],
         "lon": [
          -165.77050043172244,
          -135.67715549537965,
          54.69408321031216,
          113.95796252737813,
          -94.71863476714762,
          16.794819761223692,
          59.21551698887214,
          85.29520560972253,
          18.91249541951825,
          -32.64188732035689
         ],
         "marker": {
          "color": "purple",
          "size": 8,
          "symbol": "circle"
         },
         "mode": "markers",
         "name": "Random Points",
         "type": "scattergeo"
        }
       ],
       "layout": {
        "geo": {
         "coastlinecolor": "Black",
         "landcolor": "#9fc164",
         "lataxis": {
          "gridcolor": "black",
          "showgrid": true
         },
         "lonaxis": {
          "gridcolor": "black",
          "showgrid": true
         },
         "oceancolor": "#b2d9ff",
         "showcoastlines": true,
         "showlakes": false,
         "showland": true,
         "showocean": true,
         "showrivers": false
        },
        "template": {
         "data": {
          "bar": [
           {
            "error_x": {
             "color": "#2a3f5f"
            },
            "error_y": {
             "color": "#2a3f5f"
            },
            "marker": {
             "line": {
              "color": "#E5ECF6",
              "width": 0.5
             },
             "pattern": {
              "fillmode": "overlay",
              "size": 10,
              "solidity": 0.2
             }
            },
            "type": "bar"
           }
          ],
          "barpolar": [
           {
            "marker": {
             "line": {
              "color": "#E5ECF6",
              "width": 0.5
             },
             "pattern": {
              "fillmode": "overlay",
              "size": 10,
              "solidity": 0.2
             }
            },
            "type": "barpolar"
           }
          ],
          "carpet": [
           {
            "aaxis": {
             "endlinecolor": "#2a3f5f",
             "gridcolor": "white",
             "linecolor": "white",
             "minorgridcolor": "white",
             "startlinecolor": "#2a3f5f"
            },
            "baxis": {
             "endlinecolor": "#2a3f5f",
             "gridcolor": "white",
             "linecolor": "white",
             "minorgridcolor": "white",
             "startlinecolor": "#2a3f5f"
            },
            "type": "carpet"
           }
          ],
          "choropleth": [
           {
            "colorbar": {
             "outlinewidth": 0,
             "ticks": ""
            },
            "type": "choropleth"
           }
          ],
          "contour": [
           {
            "colorbar": {
             "outlinewidth": 0,
             "ticks": ""
            },
            "colorscale": [
             [
              0,
              "#0d0887"
             ],
             [
              0.1111111111111111,
              "#46039f"
             ],
             [
              0.2222222222222222,
              "#7201a8"
             ],
             [
              0.3333333333333333,
              "#9c179e"
             ],
             [
              0.4444444444444444,
              "#bd3786"
             ],
             [
              0.5555555555555556,
              "#d8576b"
             ],
             [
              0.6666666666666666,
              "#ed7953"
             ],
             [
              0.7777777777777778,
              "#fb9f3a"
             ],
             [
              0.8888888888888888,
              "#fdca26"
             ],
             [
              1,
              "#f0f921"
             ]
            ],
            "type": "contour"
           }
          ],
          "contourcarpet": [
           {
            "colorbar": {
             "outlinewidth": 0,
             "ticks": ""
            },
            "type": "contourcarpet"
           }
          ],
          "heatmap": [
           {
            "colorbar": {
             "outlinewidth": 0,
             "ticks": ""
            },
            "colorscale": [
             [
              0,
              "#0d0887"
             ],
             [
              0.1111111111111111,
              "#46039f"
             ],
             [
              0.2222222222222222,
              "#7201a8"
             ],
             [
              0.3333333333333333,
              "#9c179e"
             ],
             [
              0.4444444444444444,
              "#bd3786"
             ],
             [
              0.5555555555555556,
              "#d8576b"
             ],
             [
              0.6666666666666666,
              "#ed7953"
             ],
             [
              0.7777777777777778,
              "#fb9f3a"
             ],
             [
              0.8888888888888888,
              "#fdca26"
             ],
             [
              1,
              "#f0f921"
             ]
            ],
            "type": "heatmap"
           }
          ],
          "heatmapgl": [
           {
            "colorbar": {
             "outlinewidth": 0,
             "ticks": ""
            },
            "colorscale": [
             [
              0,
              "#0d0887"
             ],
             [
              0.1111111111111111,
              "#46039f"
             ],
             [
              0.2222222222222222,
              "#7201a8"
             ],
             [
              0.3333333333333333,
              "#9c179e"
             ],
             [
              0.4444444444444444,
              "#bd3786"
             ],
             [
              0.5555555555555556,
              "#d8576b"
             ],
             [
              0.6666666666666666,
              "#ed7953"
             ],
             [
              0.7777777777777778,
              "#fb9f3a"
             ],
             [
              0.8888888888888888,
              "#fdca26"
             ],
             [
              1,
              "#f0f921"
             ]
            ],
            "type": "heatmapgl"
           }
          ],
          "histogram": [
           {
            "marker": {
             "pattern": {
              "fillmode": "overlay",
              "size": 10,
              "solidity": 0.2
             }
            },
            "type": "histogram"
           }
          ],
          "histogram2d": [
           {
            "colorbar": {
             "outlinewidth": 0,
             "ticks": ""
            },
            "colorscale": [
             [
              0,
              "#0d0887"
             ],
             [
              0.1111111111111111,
              "#46039f"
             ],
             [
              0.2222222222222222,
              "#7201a8"
             ],
             [
              0.3333333333333333,
              "#9c179e"
             ],
             [
              0.4444444444444444,
              "#bd3786"
             ],
             [
              0.5555555555555556,
              "#d8576b"
             ],
             [
              0.6666666666666666,
              "#ed7953"
             ],
             [
              0.7777777777777778,
              "#fb9f3a"
             ],
             [
              0.8888888888888888,
              "#fdca26"
             ],
             [
              1,
              "#f0f921"
             ]
            ],
            "type": "histogram2d"
           }
          ],
          "histogram2dcontour": [
           {
            "colorbar": {
             "outlinewidth": 0,
             "ticks": ""
            },
            "colorscale": [
             [
              0,
              "#0d0887"
             ],
             [
              0.1111111111111111,
              "#46039f"
             ],
             [
              0.2222222222222222,
              "#7201a8"
             ],
             [
              0.3333333333333333,
              "#9c179e"
             ],
             [
              0.4444444444444444,
              "#bd3786"
             ],
             [
              0.5555555555555556,
              "#d8576b"
             ],
             [
              0.6666666666666666,
              "#ed7953"
             ],
             [
              0.7777777777777778,
              "#fb9f3a"
             ],
             [
              0.8888888888888888,
              "#fdca26"
             ],
             [
              1,
              "#f0f921"
             ]
            ],
            "type": "histogram2dcontour"
           }
          ],
          "mesh3d": [
           {
            "colorbar": {
             "outlinewidth": 0,
             "ticks": ""
            },
            "type": "mesh3d"
           }
          ],
          "parcoords": [
           {
            "line": {
             "colorbar": {
              "outlinewidth": 0,
              "ticks": ""
             }
            },
            "type": "parcoords"
           }
          ],
          "pie": [
           {
            "automargin": true,
            "type": "pie"
           }
          ],
          "scatter": [
           {
            "fillpattern": {
             "fillmode": "overlay",
             "size": 10,
             "solidity": 0.2
            },
            "type": "scatter"
           }
          ],
          "scatter3d": [
           {
            "line": {
             "colorbar": {
              "outlinewidth": 0,
              "ticks": ""
             }
            },
            "marker": {
             "colorbar": {
              "outlinewidth": 0,
              "ticks": ""
             }
            },
            "type": "scatter3d"
           }
          ],
          "scattercarpet": [
           {
            "marker": {
             "colorbar": {
              "outlinewidth": 0,
              "ticks": ""
             }
            },
            "type": "scattercarpet"
           }
          ],
          "scattergeo": [
           {
            "marker": {
             "colorbar": {
              "outlinewidth": 0,
              "ticks": ""
             }
            },
            "type": "scattergeo"
           }
          ],
          "scattergl": [
           {
            "marker": {
             "colorbar": {
              "outlinewidth": 0,
              "ticks": ""
             }
            },
            "type": "scattergl"
           }
          ],
          "scattermapbox": [
           {
            "marker": {
             "colorbar": {
              "outlinewidth": 0,
              "ticks": ""
             }
            },
            "type": "scattermapbox"
           }
          ],
          "scatterpolar": [
           {
            "marker": {
             "colorbar": {
              "outlinewidth": 0,
              "ticks": ""
             }
            },
            "type": "scatterpolar"
           }
          ],
          "scatterpolargl": [
           {
            "marker": {
             "colorbar": {
              "outlinewidth": 0,
              "ticks": ""
             }
            },
            "type": "scatterpolargl"
           }
          ],
          "scatterternary": [
           {
            "marker": {
             "colorbar": {
              "outlinewidth": 0,
              "ticks": ""
             }
            },
            "type": "scatterternary"
           }
          ],
          "surface": [
           {
            "colorbar": {
             "outlinewidth": 0,
             "ticks": ""
            },
            "colorscale": [
             [
              0,
              "#0d0887"
             ],
             [
              0.1111111111111111,
              "#46039f"
             ],
             [
              0.2222222222222222,
              "#7201a8"
             ],
             [
              0.3333333333333333,
              "#9c179e"
             ],
             [
              0.4444444444444444,
              "#bd3786"
             ],
             [
              0.5555555555555556,
              "#d8576b"
             ],
             [
              0.6666666666666666,
              "#ed7953"
             ],
             [
              0.7777777777777778,
              "#fb9f3a"
             ],
             [
              0.8888888888888888,
              "#fdca26"
             ],
             [
              1,
              "#f0f921"
             ]
            ],
            "type": "surface"
           }
          ],
          "table": [
           {
            "cells": {
             "fill": {
              "color": "#EBF0F8"
             },
             "line": {
              "color": "white"
             }
            },
            "header": {
             "fill": {
              "color": "#C8D4E3"
             },
             "line": {
              "color": "white"
             }
            },
            "type": "table"
           }
          ]
         },
         "layout": {
          "annotationdefaults": {
           "arrowcolor": "#2a3f5f",
           "arrowhead": 0,
           "arrowwidth": 1
          },
          "autotypenumbers": "strict",
          "coloraxis": {
           "colorbar": {
            "outlinewidth": 0,
            "ticks": ""
           }
          },
          "colorscale": {
           "diverging": [
            [
             0,
             "#8e0152"
            ],
            [
             0.1,
             "#c51b7d"
            ],
            [
             0.2,
             "#de77ae"
            ],
            [
             0.3,
             "#f1b6da"
            ],
            [
             0.4,
             "#fde0ef"
            ],
            [
             0.5,
             "#f7f7f7"
            ],
            [
             0.6,
             "#e6f5d0"
            ],
            [
             0.7,
             "#b8e186"
            ],
            [
             0.8,
             "#7fbc41"
            ],
            [
             0.9,
             "#4d9221"
            ],
            [
             1,
             "#276419"
            ]
           ],
           "sequential": [
            [
             0,
             "#0d0887"
            ],
            [
             0.1111111111111111,
             "#46039f"
            ],
            [
             0.2222222222222222,
             "#7201a8"
            ],
            [
             0.3333333333333333,
             "#9c179e"
            ],
            [
             0.4444444444444444,
             "#bd3786"
            ],
            [
             0.5555555555555556,
             "#d8576b"
            ],
            [
             0.6666666666666666,
             "#ed7953"
            ],
            [
             0.7777777777777778,
             "#fb9f3a"
            ],
            [
             0.8888888888888888,
             "#fdca26"
            ],
            [
             1,
             "#f0f921"
            ]
           ],
           "sequentialminus": [
            [
             0,
             "#0d0887"
            ],
            [
             0.1111111111111111,
             "#46039f"
            ],
            [
             0.2222222222222222,
             "#7201a8"
            ],
            [
             0.3333333333333333,
             "#9c179e"
            ],
            [
             0.4444444444444444,
             "#bd3786"
            ],
            [
             0.5555555555555556,
             "#d8576b"
            ],
            [
             0.6666666666666666,
             "#ed7953"
            ],
            [
             0.7777777777777778,
             "#fb9f3a"
            ],
            [
             0.8888888888888888,
             "#fdca26"
            ],
            [
             1,
             "#f0f921"
            ]
           ]
          },
          "colorway": [
           "#636efa",
           "#EF553B",
           "#00cc96",
           "#ab63fa",
           "#FFA15A",
           "#19d3f3",
           "#FF6692",
           "#B6E880",
           "#FF97FF",
           "#FECB52"
          ],
          "font": {
           "color": "#2a3f5f"
          },
          "geo": {
           "bgcolor": "white",
           "lakecolor": "white",
           "landcolor": "#E5ECF6",
           "showlakes": true,
           "showland": true,
           "subunitcolor": "white"
          },
          "hoverlabel": {
           "align": "left"
          },
          "hovermode": "closest",
          "mapbox": {
           "style": "light"
          },
          "paper_bgcolor": "white",
          "plot_bgcolor": "#E5ECF6",
          "polar": {
           "angularaxis": {
            "gridcolor": "white",
            "linecolor": "white",
            "ticks": ""
           },
           "bgcolor": "#E5ECF6",
           "radialaxis": {
            "gridcolor": "white",
            "linecolor": "white",
            "ticks": ""
           }
          },
          "scene": {
           "xaxis": {
            "backgroundcolor": "#E5ECF6",
            "gridcolor": "white",
            "gridwidth": 2,
            "linecolor": "white",
            "showbackground": true,
            "ticks": "",
            "zerolinecolor": "white"
           },
           "yaxis": {
            "backgroundcolor": "#E5ECF6",
            "gridcolor": "white",
            "gridwidth": 2,
            "linecolor": "white",
            "showbackground": true,
            "ticks": "",
            "zerolinecolor": "white"
           },
           "zaxis": {
            "backgroundcolor": "#E5ECF6",
            "gridcolor": "white",
            "gridwidth": 2,
            "linecolor": "white",
            "showbackground": true,
            "ticks": "",
            "zerolinecolor": "white"
           }
          },
          "shapedefaults": {
           "line": {
            "color": "#2a3f5f"
           }
          },
          "ternary": {
           "aaxis": {
            "gridcolor": "white",
            "linecolor": "white",
            "ticks": ""
           },
           "baxis": {
            "gridcolor": "white",
            "linecolor": "white",
            "ticks": ""
           },
           "bgcolor": "#E5ECF6",
           "caxis": {
            "gridcolor": "white",
            "linecolor": "white",
            "ticks": ""
           }
          },
          "title": {
           "x": 0.05
          },
          "xaxis": {
           "automargin": true,
           "gridcolor": "white",
           "linecolor": "white",
           "ticks": "",
           "title": {
            "standoff": 15
           },
           "zerolinecolor": "white",
           "zerolinewidth": 2
          },
          "yaxis": {
           "automargin": true,
           "gridcolor": "white",
           "linecolor": "white",
           "ticks": "",
           "title": {
            "standoff": 15
           },
           "zerolinecolor": "white",
           "zerolinewidth": 2
          }
         }
        }
       }
      }
     },
     "metadata": {},
     "output_type": "display_data"
    }
   ],
   "source": [
    "# Generate random points on Earth's surface\n",
    "num_points = 10\n",
    "random_points = [(np.random.uniform(-90, 90), np.random.uniform(-180, 180)) for _ in range(num_points)]\n",
    "\n",
    "# Extract latitudes and longitudes\n",
    "latitudes, longitudes = zip(*random_points)\n",
    "\n",
    "gp = GroundtrackPlotter()\n",
    "# Add the random points to the ground track plot\n",
    "gp.add_trace(\n",
    "    go.Scattergeo(\n",
    "        lat=latitudes,\n",
    "        lon=longitudes,\n",
    "        mode=\"markers\",\n",
    "        name=\"Random Points\",\n",
    "        marker={\"color\": \"purple\", \"size\": 8, \"symbol\": \"circle\"},\n",
    "    )\n",
    ")\n",
    "\n",
    "# Show the updated plot\n",
    "gp.fig.show()"
   ]
  },
  {
   "cell_type": "code",
   "execution_count": 4,
   "metadata": {},
   "outputs": [],
   "source": [
    "\n",
    "class Satellite:\n",
    "    def __init__(self, name, memory_capacity, battery_level):\n",
    "        self.name = name\n",
    "        self.memory_capacity = memory_capacity\n",
    "        self.memory_used = 0\n",
    "        self.battery_level = battery_level\n",
    "        self.tasks_queue = []\n",
    "        self.current_task = None\n",
    "\n",
    "    def can_perform_task(self, task):\n",
    "\n",
    "        if self.battery_level >= task.battery_required and self.memory_used + task.memory_required <= self.memory_capacity:\n",
    "            return True\n",
    "        \n",
    "        return False\n",
    "    \n",
    "    def add_task(self, task):\n",
    "        if self.memory_used + task.memory_required <= self.memory_capacity:\n",
    "            self.tasks_queue.append(task)\n",
    "\n",
    "\n",
    "class TaskType(Enum):\n",
    "    IMAGE_CAPTURE = \"Image Capture\"\n",
    "    DATA_TRANSMISSION = \"Data Transmission\"\n",
    "    MAINTENANCE = \"Maintenance\"\n",
    "    LENS_CALIBRATION = \"Lens Calibration\"\n",
    "    \n",
    "\n",
    "class Task:\n",
    "    def __init__(self, task_id, task_type: TaskType, duration, priority, location=None, memory_required=0, battery_required=0):\n",
    "        self.task_id = task_id\n",
    "        self.task_type = task_type\n",
    "        self.duration = duration\n",
    "        self.priority = priority\n",
    "        self.location = location\n",
    "        self.memory_required = memory_required\n",
    "        self.battery_required = battery_required\n",
    "\n",
    "    \n",
    "class Track:\n",
    "    def __init__(self, satellite, start_time, duration, zones):\n",
    "        self.satellite = satellite\n",
    "        self.start_time = start_time\n",
    "        self.duration = duration\n",
    "        self.zones = zones  # List of zones the satellite will pass over\n",
    "\n",
    "    def get_zone_by_name(self, name):\n",
    "        for zone in self.zones:\n",
    "            if zone.name == name:\n",
    "                return zone\n",
    "        return None\n",
    "    \n",
    "    \n",
    "class Zone:\n",
    "    def __init__(self, name, coordinates, visibility_window, priority, has_ground_station=False):\n",
    "        self.name = name \n",
    "        self.coordinates = coordinates  # GPS coordinates (latitude, longitude)e\n",
    "        self.visibility_window = visibility_window  # Time window when the zone is visible\n",
    "        self.priority = priority \n",
    "        self.has_ground_station  = has_ground_station  # True if the zone has a ground station for data transmission\n",
    "\n",
    "    def is_visible(self, current_time):\n",
    "        start, end = self.visibility_window\n",
    "        return start <= current_time <= end"
   ]
  },
  {
   "cell_type": "code",
   "execution_count": 5,
   "metadata": {},
   "outputs": [
    {
     "ename": "TypeError",
     "evalue": "list indices must be integers or slices, not IntVar",
     "output_type": "error",
     "traceback": [
      "\u001b[0;31m---------------------------------------------------------------------------\u001b[0m",
      "\u001b[0;31mTypeError\u001b[0m                                 Traceback (most recent call last)",
      "Cell \u001b[0;32mIn[5], line 80\u001b[0m\n\u001b[1;32m     72\u001b[0m tasks \u001b[38;5;241m=\u001b[39m [\n\u001b[1;32m     73\u001b[0m     Task(\u001b[38;5;241m0\u001b[39m, TaskType\u001b[38;5;241m.\u001b[39mLENS_CALIBRATION, duration\u001b[38;5;241m=\u001b[39m\u001b[38;5;241m2\u001b[39m, priority\u001b[38;5;241m=\u001b[39m\u001b[38;5;241m0\u001b[39m),\n\u001b[1;32m     74\u001b[0m     Task(\u001b[38;5;241m1\u001b[39m, TaskType\u001b[38;5;241m.\u001b[39mIMAGE_CAPTURE, duration\u001b[38;5;241m=\u001b[39m\u001b[38;5;241m5\u001b[39m, priority\u001b[38;5;241m=\u001b[39m\u001b[38;5;241m10\u001b[39m, location\u001b[38;5;241m=\u001b[39m\u001b[38;5;124m\"\u001b[39m\u001b[38;5;124mParis\u001b[39m\u001b[38;5;124m\"\u001b[39m, memory_required\u001b[38;5;241m=\u001b[39m\u001b[38;5;241m5\u001b[39m, battery_required\u001b[38;5;241m=\u001b[39m\u001b[38;5;241m10\u001b[39m),\n\u001b[1;32m     75\u001b[0m     Task(\u001b[38;5;241m2\u001b[39m, TaskType\u001b[38;5;241m.\u001b[39mIMAGE_CAPTURE, duration\u001b[38;5;241m=\u001b[39m\u001b[38;5;241m4\u001b[39m, priority\u001b[38;5;241m=\u001b[39m\u001b[38;5;241m12\u001b[39m, location\u001b[38;5;241m=\u001b[39m\u001b[38;5;124m\"\u001b[39m\u001b[38;5;124mTokyo\u001b[39m\u001b[38;5;124m\"\u001b[39m, memory_required\u001b[38;5;241m=\u001b[39m\u001b[38;5;241m6\u001b[39m, battery_required\u001b[38;5;241m=\u001b[39m\u001b[38;5;241m8\u001b[39m),\n\u001b[1;32m     76\u001b[0m     Task(\u001b[38;5;241m3\u001b[39m, TaskType\u001b[38;5;241m.\u001b[39mDATA_TRANSMISSION, duration\u001b[38;5;241m=\u001b[39m\u001b[38;5;241m3\u001b[39m, priority\u001b[38;5;241m=\u001b[39m\u001b[38;5;241m0\u001b[39m, location\u001b[38;5;241m=\u001b[39m\u001b[38;5;124m\"\u001b[39m\u001b[38;5;124mTokyo\u001b[39m\u001b[38;5;124m\"\u001b[39m, battery_required\u001b[38;5;241m=\u001b[39m\u001b[38;5;241m5\u001b[39m),\n\u001b[1;32m     77\u001b[0m ]\n\u001b[1;32m     79\u001b[0m scheduler \u001b[38;5;241m=\u001b[39m SatelliteScheduler(tasks, zones, memory_capacity\u001b[38;5;241m=\u001b[39m\u001b[38;5;241m10\u001b[39m, battery_capacity\u001b[38;5;241m=\u001b[39m\u001b[38;5;241m50\u001b[39m, time_horizon\u001b[38;5;241m=\u001b[39m\u001b[38;5;241m40\u001b[39m)\n\u001b[0;32m---> 80\u001b[0m \u001b[43mscheduler\u001b[49m\u001b[38;5;241;43m.\u001b[39;49m\u001b[43msolve\u001b[49m\u001b[43m(\u001b[49m\u001b[43m)\u001b[49m\n",
      "Cell \u001b[0;32mIn[5], line 54\u001b[0m, in \u001b[0;36mSatelliteScheduler.solve\u001b[0;34m(self)\u001b[0m\n\u001b[1;32m     52\u001b[0m \u001b[38;5;28;01mdef\u001b[39;00m\u001b[38;5;250m \u001b[39m\u001b[38;5;21msolve\u001b[39m(\u001b[38;5;28mself\u001b[39m):\n\u001b[1;32m     53\u001b[0m     \u001b[38;5;28mself\u001b[39m\u001b[38;5;241m.\u001b[39mdefine_variables()\n\u001b[0;32m---> 54\u001b[0m     \u001b[38;5;28;43mself\u001b[39;49m\u001b[38;5;241;43m.\u001b[39;49m\u001b[43madd_constraints\u001b[49m\u001b[43m(\u001b[49m\u001b[43m)\u001b[49m\n\u001b[1;32m     55\u001b[0m     \u001b[38;5;28mself\u001b[39m\u001b[38;5;241m.\u001b[39mset_objective()\n\u001b[1;32m     56\u001b[0m     status \u001b[38;5;241m=\u001b[39m \u001b[38;5;28mself\u001b[39m\u001b[38;5;241m.\u001b[39msolver\u001b[38;5;241m.\u001b[39mSolve(\u001b[38;5;28mself\u001b[39m\u001b[38;5;241m.\u001b[39mmodel)\n",
      "Cell \u001b[0;32mIn[5], line 36\u001b[0m, in \u001b[0;36mSatelliteScheduler.add_constraints\u001b[0;34m(self)\u001b[0m\n\u001b[1;32m     33\u001b[0m     \u001b[38;5;28mself\u001b[39m\u001b[38;5;241m.\u001b[39mmodel\u001b[38;5;241m.\u001b[39mAdd(start_var \u001b[38;5;241m+\u001b[39m task\u001b[38;5;241m.\u001b[39mduration \u001b[38;5;241m<\u001b[39m\u001b[38;5;241m=\u001b[39m zone\u001b[38;5;241m.\u001b[39mvisibility_window[\u001b[38;5;241m1\u001b[39m])\u001b[38;5;241m.\u001b[39mOnlyEnforceIf(done_var)\n\u001b[1;32m     35\u001b[0m \u001b[38;5;28;01mif\u001b[39;00m task\u001b[38;5;241m.\u001b[39mtask_type \u001b[38;5;241m==\u001b[39m TaskType\u001b[38;5;241m.\u001b[39mIMAGE_CAPTURE:\n\u001b[0;32m---> 36\u001b[0m     \u001b[38;5;28mself\u001b[39m\u001b[38;5;241m.\u001b[39mmodel\u001b[38;5;241m.\u001b[39mAdd(\u001b[43mmemory_used\u001b[49m\u001b[43m[\u001b[49m\u001b[43mstart_var\u001b[49m\u001b[43m]\u001b[49m \u001b[38;5;241m+\u001b[39m task\u001b[38;5;241m.\u001b[39mmemory_required \u001b[38;5;241m<\u001b[39m\u001b[38;5;241m=\u001b[39m \u001b[38;5;28mself\u001b[39m\u001b[38;5;241m.\u001b[39mmemory_capacity)\u001b[38;5;241m.\u001b[39mOnlyEnforceIf(done_var)\n\u001b[1;32m     37\u001b[0m     \u001b[38;5;28mself\u001b[39m\u001b[38;5;241m.\u001b[39mmodel\u001b[38;5;241m.\u001b[39mAdd(battery_used[start_var] \u001b[38;5;241m+\u001b[39m task\u001b[38;5;241m.\u001b[39mbattery_required \u001b[38;5;241m<\u001b[39m\u001b[38;5;241m=\u001b[39m \u001b[38;5;28mself\u001b[39m\u001b[38;5;241m.\u001b[39mbattery_capacity)\u001b[38;5;241m.\u001b[39mOnlyEnforceIf(done_var)\n\u001b[1;32m     39\u001b[0m     \u001b[38;5;66;03m# Calibration obligatoire avant la capture\u001b[39;00m\n",
      "\u001b[0;31mTypeError\u001b[0m: list indices must be integers or slices, not IntVar"
     ]
    }
   ],
   "source": [
    "class SatelliteScheduler:\n",
    "    def __init__(self, tasks, zones, memory_capacity, battery_capacity, time_horizon):\n",
    "        self.tasks = tasks\n",
    "        self.zones = zones\n",
    "        self.memory_capacity = memory_capacity\n",
    "        self.battery_capacity = battery_capacity\n",
    "        self.time_horizon = time_horizon\n",
    "        self.model = cp_model.CpModel()\n",
    "        self.task_starts = {}\n",
    "        self.task_done = {}\n",
    "        self.solver = cp_model.CpSolver()\n",
    "\n",
    "    def define_variables(self):\n",
    "        for task in self.tasks:\n",
    "            self.task_starts[task.task_id] = self.model.NewIntVar(0, self.time_horizon, f\"start_{task.task_id}\")\n",
    "            self.task_done[task.task_id] = self.model.NewBoolVar(f\"done_{task.task_id}\")\n",
    "\n",
    "    def add_constraints(self):\n",
    "        memory_used = [self.model.NewIntVar(0, self.memory_capacity, f\"memory_{t}\") for t in range(self.time_horizon)]\n",
    "        battery_used = [self.model.NewIntVar(0, self.battery_capacity, f\"battery_{t}\") for t in range(self.time_horizon)]\n",
    "\n",
    "        for t in range(1, self.time_horizon):\n",
    "            self.model.Add(memory_used[t] == memory_used[t-1])\n",
    "            self.model.Add(battery_used[t] == battery_used[t-1])\n",
    "\n",
    "        for task in self.tasks:\n",
    "            start_var = self.task_starts[task.task_id]\n",
    "            done_var = self.task_done[task.task_id]\n",
    "\n",
    "            zone = next((z for z in self.zones if z.name == task.location), None)\n",
    "            if zone:\n",
    "                self.model.Add(start_var >= zone.visibility_window[0]).OnlyEnforceIf(done_var)\n",
    "                self.model.Add(start_var + task.duration <= zone.visibility_window[1]).OnlyEnforceIf(done_var)\n",
    "\n",
    "            if task.task_type == TaskType.IMAGE_CAPTURE:\n",
    "                self.model.Add(memory_used[start_var] + task.memory_required <= self.memory_capacity).OnlyEnforceIf(done_var)\n",
    "                self.model.Add(battery_used[start_var] + task.battery_required <= self.battery_capacity).OnlyEnforceIf(done_var)\n",
    "\n",
    "                # Calibration obligatoire avant la capture\n",
    "                has_calibration = any(t.task_type == TaskType.LENS_CALIBRATION for t in self.tasks if t.task_id < task.task_id)\n",
    "                if has_calibration:\n",
    "                    calibration_task = next(t for t in self.tasks if t.task_type == TaskType.LENS_CALIBRATION and t.task_id < task.task_id)\n",
    "                    self.model.Add(start_var >= self.task_starts[calibration_task.task_id] + calibration_task.duration).OnlyEnforceIf(done_var)\n",
    "\n",
    "            if task.task_type == TaskType.DATA_TRANSMISSION:\n",
    "                self.model.Add(memory_used[start_var] == 0).OnlyEnforceIf(done_var)\n",
    "                self.model.Add(battery_used[start_var] + task.battery_required <= self.battery_capacity).OnlyEnforceIf(done_var)\n",
    "\n",
    "    def set_objective(self):\n",
    "        self.model.Maximize(sum(task.priority * self.task_done[task.task_id] for task in self.tasks))\n",
    "\n",
    "    def solve(self):\n",
    "        self.define_variables()\n",
    "        self.add_constraints()\n",
    "        self.set_objective()\n",
    "        status = self.solver.Solve(self.model)\n",
    "        if status == cp_model.OPTIMAL or status == cp_model.FEASIBLE:\n",
    "            print(\"Solution trouvée !\")\n",
    "            for task in self.tasks:\n",
    "                if self.solver.Value(self.task_done[task.task_id]):\n",
    "                    print(f\"Tâche {task.task_id} ({task.task_type.value}) exécutée à {self.solver.Value(self.task_starts[task.task_id])}\")\n",
    "        else:\n",
    "            print(\"Pas de solution trouvée.\")\n",
    "\n",
    "# === Définition des tâches et zones ===\n",
    "\n",
    "zones = [\n",
    "    Zone(\"Paris\", (48.8566, 2.3522), visibility_window=(10, 20), priority=10),\n",
    "    Zone(\"Tokyo\", (35.682839, 139.759455), visibility_window=(25, 35), priority=15, has_ground_station=True),\n",
    "]\n",
    "\n",
    "tasks = [\n",
    "    Task(0, TaskType.LENS_CALIBRATION, duration=2, priority=0),\n",
    "    Task(1, TaskType.IMAGE_CAPTURE, duration=5, priority=10, location=\"Paris\", memory_required=5, battery_required=10),\n",
    "    Task(2, TaskType.IMAGE_CAPTURE, duration=4, priority=12, location=\"Tokyo\", memory_required=6, battery_required=8),\n",
    "    Task(3, TaskType.DATA_TRANSMISSION, duration=3, priority=0, location=\"Tokyo\", battery_required=5),\n",
    "]\n",
    "\n",
    "scheduler = SatelliteScheduler(tasks, zones, memory_capacity=10, battery_capacity=50, time_horizon=40)\n",
    "scheduler.solve()"
   ]
  },
  {
   "cell_type": "code",
   "execution_count": null,
   "metadata": {},
   "outputs": [],
   "source": []
  }
 ],
 "metadata": {
  "kernelspec": {
   "display_name": "ppc_env",
   "language": "python",
   "name": "python3"
  },
  "language_info": {
   "codemirror_mode": {
    "name": "ipython",
    "version": 3
   },
   "file_extension": ".py",
   "mimetype": "text/x-python",
   "name": "python",
   "nbconvert_exporter": "python",
   "pygments_lexer": "ipython3",
   "version": "3.10.16"
  }
 },
 "nbformat": 4,
 "nbformat_minor": 2
}
